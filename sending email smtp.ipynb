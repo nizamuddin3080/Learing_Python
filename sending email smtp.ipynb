{
 "cells": [
  {
   "cell_type": "code",
   "execution_count": 13,
   "metadata": {},
   "outputs": [
    {
     "data": {
      "text/plain": [
       "{}"
      ]
     },
     "execution_count": 13,
     "metadata": {},
     "output_type": "execute_result"
    }
   ],
   "source": [
    "import smtplib\n",
    "\n",
    "host = \"smtp.gmail.com\"\n",
    "port = 587\n",
    "username = \"pythonlearing102030@gmail.com\"\n",
    "password = \"Nizam01629075273\"\n",
    "from_email = username\n",
    "to_list = \"pythonlearing102030@gmail.com\"\n",
    "\n",
    "\n",
    "email_conn = smtplib.SMTP(host, port)\n",
    "email_conn.ehlo()\n",
    "email_conn.starttls()\n",
    "email_conn.login(username, password)\n",
    "email_conn.sendmail(from_email, to_list, \"this is an example of the python send email though smtp\")\n",
    "# email_conn.quit()"
   ]
  }
 ],
 "metadata": {
  "kernelspec": {
   "display_name": "Python 3",
   "language": "python",
   "name": "python3"
  },
  "language_info": {
   "codemirror_mode": {
    "name": "ipython",
    "version": 3
   },
   "file_extension": ".py",
   "mimetype": "text/x-python",
   "name": "python",
   "nbconvert_exporter": "python",
   "pygments_lexer": "ipython3",
   "version": "3.8.2"
  }
 },
 "nbformat": 4,
 "nbformat_minor": 4
}
