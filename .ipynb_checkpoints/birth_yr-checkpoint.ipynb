{
 "cells": [
  {
   "cell_type": "code",
   "execution_count": 13,
   "metadata": {},
   "outputs": [
    {
     "name": "stdout",
     "output_type": "stream",
     "text": [
      "Enter your DOB:1999\n",
      "Your age is 21 Year\n"
     ]
    }
   ],
   "source": [
    "import datetime\n",
    "\n",
    "def main():\n",
    "    DOB=input(\"Enter your DOB:\")\n",
    "    YearNow=datetime.datetime.today().year\n",
    "    MyAge=YearNow-int(DOB)\n",
    "    print(\"Your age is {} Year\".format(MyAge))\n",
    "    \n",
    "    \n",
    "if __name__ == '__main__':main()"
   ]
  },
  {
   "cell_type": "code",
   "execution_count": null,
   "metadata": {},
   "outputs": [],
   "source": []
  }
 ],
 "metadata": {
  "kernelspec": {
   "display_name": "Python 3",
   "language": "python",
   "name": "python3"
  },
  "language_info": {
   "codemirror_mode": {
    "name": "ipython",
    "version": 3
   },
   "file_extension": ".py",
   "mimetype": "text/x-python",
   "name": "python",
   "nbconvert_exporter": "python",
   "pygments_lexer": "ipython3",
   "version": "3.8.2"
  }
 },
 "nbformat": 4,
 "nbformat_minor": 4
}
